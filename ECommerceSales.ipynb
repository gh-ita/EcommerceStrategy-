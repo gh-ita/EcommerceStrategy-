{
  "nbformat": 4,
  "nbformat_minor": 0,
  "metadata": {
    "colab": {
      "provenance": [],
      "authorship_tag": "ABX9TyMP1mpXjVUJqhk89A2W/+Km",
      "include_colab_link": true
    },
    "kernelspec": {
      "name": "python3",
      "display_name": "Python 3"
    },
    "language_info": {
      "name": "python"
    }
  },
  "cells": [
    {
      "cell_type": "markdown",
      "metadata": {
        "id": "view-in-github",
        "colab_type": "text"
      },
      "source": [
        "<a href=\"https://colab.research.google.com/github/gh-ita/EcommerceStrategy-/blob/main/ECommerceSales.ipynb\" target=\"_parent\"><img src=\"https://colab.research.google.com/assets/colab-badge.svg\" alt=\"Open In Colab\"/></a>"
      ]
    },
    {
      "cell_type": "code",
      "execution_count": null,
      "metadata": {
        "id": "gohQR-gBZ6DF"
      },
      "outputs": [],
      "source": [
        "import numpy as np\n",
        "import matplotlib.pyplot as plt\n",
        "import random"
      ]
    },
    {
      "cell_type": "markdown",
      "source": [
        "# Environment simulation preparation"
      ],
      "metadata": {
        "id": "hfFto0mVsDxi"
      }
    },
    {
      "cell_type": "markdown",
      "source": [
        "We set the number of marketing strategies and the number of customers.and for each strategy we set a conversion rate."
      ],
      "metadata": {
        "id": "SSS8aAUeo8n9"
      }
    },
    {
      "cell_type": "code",
      "source": [
        "strategies = 9\n",
        "customers = 10000\n",
        "conv_rates = [0.04,0.16,0.08,0.22,0.11,0.01,0.13,0.09,0.16]"
      ],
      "metadata": {
        "id": "Oq7wyXbuoxOh"
      },
      "execution_count": null,
      "outputs": []
    },
    {
      "cell_type": "markdown",
      "source": [
        "We create the environment matrix to save the strategy chosen by each customer."
      ],
      "metadata": {
        "id": "ElsUhhY_pctU"
      }
    },
    {
      "cell_type": "code",
      "source": [
        "env_matrix = np.array(np.zeros([customers,strategies]))"
      ],
      "metadata": {
        "id": "fqVoGFs8o7uu"
      },
      "execution_count": null,
      "outputs": []
    },
    {
      "cell_type": "markdown",
      "source": [
        "We simulate the choice of each customer by choosing a random number between 0 and 1 for each strategy, if the number is less than the strategy's conversion rate than the strategy is effective so we save a 1 if not than it is a 0."
      ],
      "metadata": {
        "id": "DeJWmmOArAJb"
      }
    },
    {
      "cell_type": "code",
      "source": [
        "for i in range(customers):\n",
        "  for j in range(strategies):\n",
        "    if np.random.rand() <= conv_rates[j] :\n",
        "      env_matrix[i][j] = 1"
      ],
      "metadata": {
        "id": "OOWldsfgpW9z"
      },
      "execution_count": null,
      "outputs": []
    },
    {
      "cell_type": "markdown",
      "source": [
        "# AI implementation"
      ],
      "metadata": {
        "id": "M6CNcssIsASI"
      }
    },
    {
      "cell_type": "code",
      "source": [
        "selected_strategy_rs = []\n",
        "selected_strategy_ts = []\n",
        "selection_times = np.array(np.zeros(strategies))\n",
        "non_selection_times = np.array(np.zeros(strategies))\n",
        "total_rewards_ts = 0\n",
        "total_rewards_rs = 0"
      ],
      "metadata": {
        "id": "QOXDVGR3qRs1"
      },
      "execution_count": null,
      "outputs": []
    },
    {
      "cell_type": "code",
      "source": [],
      "metadata": {
        "id": "4q2xLCuysyg1"
      },
      "execution_count": null,
      "outputs": []
    }
  ]
}