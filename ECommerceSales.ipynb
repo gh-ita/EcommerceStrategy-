{
  "nbformat": 4,
  "nbformat_minor": 0,
  "metadata": {
    "colab": {
      "provenance": [],
      "authorship_tag": "ABX9TyOqF6H4XeoIEJhw34E8vzCz",
      "include_colab_link": true
    },
    "kernelspec": {
      "name": "python3",
      "display_name": "Python 3"
    },
    "language_info": {
      "name": "python"
    }
  },
  "cells": [
    {
      "cell_type": "markdown",
      "metadata": {
        "id": "view-in-github",
        "colab_type": "text"
      },
      "source": [
        "<a href=\"https://colab.research.google.com/github/gh-ita/EcommerceStrategy-/blob/main/ECommerceSales.ipynb\" target=\"_parent\"><img src=\"https://colab.research.google.com/assets/colab-badge.svg\" alt=\"Open In Colab\"/></a>"
      ]
    },
    {
      "cell_type": "code",
      "execution_count": 2,
      "metadata": {
        "id": "gohQR-gBZ6DF"
      },
      "outputs": [],
      "source": [
        "import numpy as np\n",
        "import matplotlib.pyplot as plt\n",
        "import random"
      ]
    },
    {
      "cell_type": "markdown",
      "source": [
        "# Environment simulation preparation"
      ],
      "metadata": {
        "id": "hfFto0mVsDxi"
      }
    },
    {
      "cell_type": "markdown",
      "source": [
        "We set the number of marketing strategies and the number of customers.and for each strategy we set a conversion rate."
      ],
      "metadata": {
        "id": "SSS8aAUeo8n9"
      }
    },
    {
      "cell_type": "code",
      "source": [
        "strategies = 9\n",
        "customers = 10000\n",
        "conv_rates = [0.04,0.16,0.08,0.22,0.11,0.01,0.13,0.09,0.16]"
      ],
      "metadata": {
        "id": "Oq7wyXbuoxOh"
      },
      "execution_count": 3,
      "outputs": []
    },
    {
      "cell_type": "markdown",
      "source": [
        "We create the environment matrix to save the strategy chosen by each customer."
      ],
      "metadata": {
        "id": "ElsUhhY_pctU"
      }
    },
    {
      "cell_type": "code",
      "source": [
        "env_matrix = np.array(np.zeros([customers,strategies]))"
      ],
      "metadata": {
        "id": "fqVoGFs8o7uu"
      },
      "execution_count": 4,
      "outputs": []
    },
    {
      "cell_type": "markdown",
      "source": [
        "We simulate the choice of each customer by choosing a random number between 0 and 1 for each strategy, if the number is less than the strategy's conversion rate than the strategy is effective so we save a 1 if not than it is a 0."
      ],
      "metadata": {
        "id": "DeJWmmOArAJb"
      }
    },
    {
      "cell_type": "code",
      "source": [
        "for i in range(customers):\n",
        "  for j in range(strategies):\n",
        "    if np.random.rand() <= conv_rates[j] :\n",
        "      env_matrix[i][j] = 1"
      ],
      "metadata": {
        "id": "OOWldsfgpW9z"
      },
      "execution_count": 5,
      "outputs": []
    },
    {
      "cell_type": "markdown",
      "source": [
        "# AI implementation"
      ],
      "metadata": {
        "id": "M6CNcssIsASI"
      }
    },
    {
      "cell_type": "code",
      "source": [
        "selected_strategy_rs = []\n",
        "selected_strategy_ts = []\n",
        "selection_times = np.array(np.ones(strategies))\n",
        "non_selection_times = np.array(np.ones(strategies))\n",
        "total_rewards_ts = 0\n",
        "total_rewards_rs = 0"
      ],
      "metadata": {
        "id": "QOXDVGR3qRs1"
      },
      "execution_count": 11,
      "outputs": []
    },
    {
      "cell_type": "markdown",
      "source": [
        "## Random selection application"
      ],
      "metadata": {
        "id": "iKUIiC8FiRjM"
      }
    },
    {
      "cell_type": "code",
      "source": [
        "for i in range(customers) :\n",
        "  selected_strat = random.randrange(strategies)\n",
        "  selected_strategy_rs.append(selected_strat)\n",
        "  total_rewards_rs += env_matrix[i,selected_strat]\n"
      ],
      "metadata": {
        "id": "4q2xLCuysyg1"
      },
      "execution_count": 12,
      "outputs": []
    },
    {
      "cell_type": "markdown",
      "source": [
        "## Thompson sampling application"
      ],
      "metadata": {
        "id": "F0_RCaS7jgEj"
      }
    },
    {
      "cell_type": "code",
      "source": [
        "for i in range(customers) :\n",
        "  selection = 0\n",
        "  max_random = 0\n",
        "  for j in range(strategies) :\n",
        "    random = np.random.beta(selection_times[j],non_selection_times[j])\n",
        "    if random >= max_random :\n",
        "      max_random = random\n",
        "      selection = j\n",
        "  selected_strategy_ts.append(selection)\n",
        "  if env_matrix[i,selection] == 1:\n",
        "    selection_times[selection] += 1\n",
        "  else :\n",
        "    non_selection_times[selection] += 1\n",
        "  total_rewards_ts += env_matrix[i,selection]\n",
        "\n",
        "\n"
      ],
      "metadata": {
        "id": "mpDv8ji_i9D0"
      },
      "execution_count": 13,
      "outputs": []
    },
    {
      "cell_type": "markdown",
      "source": [
        "After implementing two algorithms to select the right strategy, random selection and thompson sampling we will compare their results to see how each performed compared to the other."
      ],
      "metadata": {
        "id": "252s6J2arVXE"
      }
    },
    {
      "cell_type": "code",
      "source": [
        "relative_return = (total_rewards_ts - total_rewards_rs) / total_rewards_rs*100"
      ],
      "metadata": {
        "id": "_C_PzciLooI5"
      },
      "execution_count": 16,
      "outputs": []
    },
    {
      "cell_type": "code",
      "source": [
        "print(relative_return)"
      ],
      "metadata": {
        "colab": {
          "base_uri": "https://localhost:8080/"
        },
        "id": "em574nk4pVhh",
        "outputId": "79a031a1-23b8-4261-cf21-281510c86803"
      },
      "execution_count": 17,
      "outputs": [
        {
          "output_type": "stream",
          "name": "stdout",
          "text": [
            "92.81221922731356\n"
          ]
        }
      ]
    },
    {
      "cell_type": "markdown",
      "source": [
        "Here we can see that the thompson sampling algorithm selected the right strategy double the times random selection did."
      ],
      "metadata": {
        "id": "VhEPEulYrrLO"
      }
    },
    {
      "cell_type": "code",
      "source": [
        "plt.hist(selected_strategy_ts)\n",
        "plt.title('the selected strategy')\n",
        "plt.ylabel(\"number of times the strategy was selected\")\n",
        "plt.xlabel(\"the strategy\")\n",
        "plt.show()"
      ],
      "metadata": {
        "colab": {
          "base_uri": "https://localhost:8080/",
          "height": 472
        },
        "id": "Z1Miz25WpXiG",
        "outputId": "71b2879e-e432-4785-e740-d5bfd0269d03"
      },
      "execution_count": 18,
      "outputs": [
        {
          "output_type": "display_data",
          "data": {
            "text/plain": [
              "<Figure size 640x480 with 1 Axes>"
            ],
            "image/png": "[encoded data removed]"
          },
          "metadata": {}
        }
      ]
    },
    {
      "cell_type": "markdown",
      "source": [
        "Here we can effectively see that the strategy with the highest conversion rate which is the fourth strategy is the one selected by the thompson sampling model here with the index 3, we can also notice that the model was able to select the right strategy at less than 2000 rounds.\n",
        "\n"
      ],
      "metadata": {
        "id": "b1KYhZH5s-1z"
      }
    }
  ]
}